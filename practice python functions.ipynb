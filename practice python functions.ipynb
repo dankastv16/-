{
 "cells": [
  {
   "cell_type": "markdown",
   "metadata": {},
   "source": [
    "## Задача 2.1 У тебя все получится!\n",
    "Написать функцию `justdoit(n)`, выводящую на экран строчку `У тебя все получится!` `n` раз подряд и ничего не возвращающую. Например, вызов `justdoit(3)` должен привести к выводу на экран\n",
    "```\n",
    "У тебя все получится!\n",
    "У тебя все получится!\n",
    "У тебя все получится!\n",
    "```"
   ]
  },
  {
   "cell_type": "code",
   "execution_count": 15,
   "metadata": {},
   "outputs": [],
   "source": [
    "def justdoit(n):\n",
    "    for i in range(n):\n",
    "        print('У тебя все получится!')      "
   ]
  },
  {
   "cell_type": "code",
   "execution_count": 16,
   "metadata": {},
   "outputs": [
    {
     "name": "stdout",
     "output_type": "stream",
     "text": [
      "У тебя все получится!\n",
      "У тебя все получится!\n",
      "У тебя все получится!\n",
      "У тебя все получится!\n",
      "У тебя все получится!\n",
      "У тебя все получится!\n",
      "У тебя все получится!\n",
      "У тебя все получится!\n"
     ]
    }
   ],
   "source": [
    "justdoit(8)"
   ]
  },
  {
   "cell_type": "markdown",
   "metadata": {},
   "source": [
    "## Задача 2.2 Банковское огругление\n",
    "Написать функцию `bankround(q)`, возвращающую число `q`, окгругленное по принципу банковского округления. То есть:\n",
    "```\n",
    "bankround(6.5)\n",
    "6\n",
    "bankround(7.5)\n",
    "8\n",
    "```\n"
   ]
  },
  {
   "cell_type": "code",
   "execution_count": 206,
   "metadata": {},
   "outputs": [],
   "source": [
    "import decimal"
   ]
  },
  {
   "cell_type": "code",
   "execution_count": 222,
   "metadata": {},
   "outputs": [],
   "source": [
    "def bankround(q):\n",
    "    \n",
    "    return  float(decimal.Decimal(str(q)).quantize(\n",
    "    decimal.Decimal('1'),\n",
    "    rounding=decimal.ROUND_HALF_UP))\n",
    "#    rounding\n"
   ]
  },
  {
   "cell_type": "code",
   "execution_count": 223,
   "metadata": {},
   "outputs": [
    {
     "data": {
      "text/plain": [
       "5.0"
      ]
     },
     "execution_count": 223,
     "metadata": {},
     "output_type": "execute_result"
    }
   ],
   "source": [
    "bankround(4.5)"
   ]
  },
  {
   "cell_type": "markdown",
   "metadata": {},
   "source": [
    "## Задача 2.3 Путь самурая\n",
    "Написать функцию `busido(bushidan, bokudan)`, которая позволит нам найти наименьшее количество задач, которые нужно решить, чтобы получить желаемую оценку. Функция на вход принимает два параметра:\n",
    "- bushidan -- список кортежей, каждый из кортежей содержит номера задача, решенных данным студентом\n",
    "- bokudan -- относительный рейтинг, который мы хотим получить (от 0 до 1)\n",
    "\n",
    "То есть для расчета оценок использовать только часть формулы из программы после $1.5*$\n",
    "\n",
    "Функция должна возвращать список из кортежей, содержащих номера задач, которые нужно решить, чтобы получить рейтинг не ниже желаемого. Считать, что всего задач 15.\n",
    "\n",
    "Пример (если задач 5)\n",
    "```\n",
    "busido([(1, 2), (1, 3, 5), (1, 4, 5)], 0.6)\n",
    "[(2, 3), (2, 4), (3, 4)]\n",
    "\n",
    "```"
   ]
  },
  {
   "cell_type": "code",
   "execution_count": 425,
   "metadata": {},
   "outputs": [],
   "source": [
    "def busido(bushidan, bokudan):\n",
    "    marks = []\n",
    "    tasks_rating = {}\n",
    "    for i in bushidan:\n",
    "        for j in i:\n",
    "            marks.append(j)\n",
    "   \n",
    "    for i in marks:\n",
    "        tasks_rating[i]=marks.count(i)/15\n",
    "    v=0\n",
    "    var = []\n",
    "    k = []\n",
    "    for key, value in tasks_rating.items():\n",
    "        v+=value\n",
    "        k.append(key)\n",
    "        if v!=0:\n",
    "           \n",
    "            if v>=bokudan:\n",
    "                \n",
    "                v = 0\n",
    "                var.append(k)\n",
    "                k=[]\n",
    "        else:\n",
    "\n",
    "            continue\n",
    "    tuple_list = [tuple(i) for i in var]\n",
    "    return tuple_list\n",
    "        "
   ]
  },
  {
   "cell_type": "markdown",
   "metadata": {},
   "source": [
    "## Задача 2.4 Персонифицированная рассылка\n",
    "Написать функцию mailResults(score_table), которая готовит персонифицированный текст для рассылки с результатами курса.Таблица имеет следующие столбцы:\n",
    "\n",
    "- `surname`: фамилия студента;\n",
    "- `name`: имя студента\n",
    "- `score`: оценка студента (int от 0 до 10);\n",
    "- `email`: электронная почта студента\n",
    "\n",
    "Функция должна печатать следующий текст для каждого студента (между сообщениями должна быть пропущена одна строка):\n",
    "```\n",
    "To: <email>\n",
    "Уважаемый <name>!\n",
    "Вы получили за курс оценку <grade>.\n",
    "Хорошего дня.\n",
    "\n",
    "To: <email>\n",
    "Уважаемый <name>!\n",
    "Вы получили за курс оценку <grade>.\n",
    "Хорошего дня.\n",
    "```\n",
    "\n",
    "Также функция должна возвращать список из кортежей по числу студентов. В каждом кортеже два элемента: адрес электронной почты и текст письма (без `To: <email>`)."
   ]
  },
  {
   "cell_type": "code",
   "execution_count": 44,
   "metadata": {},
   "outputs": [
    {
     "name": "stdout",
     "output_type": "stream",
     "text": [
      "  surname name  score                email\n",
      "0  Nmkznp    A      9  a.nmkznp@edu.hse.ru\n",
      "1  Dgvoct    B      4  b.dgvoct@edu.hse.ru\n",
      "2  Lnwmcn    C      4  c.lnwmcn@edu.hse.ru\n",
      "3  Iilznc    A      9  a.iilznc@edu.hse.ru\n",
      "4  Uhydgx    A      5  a.uhydgx@edu.hse.ru\n",
      "5  Mqaogx    C     10  c.mqaogx@edu.hse.ru\n",
      "6  Xtwmlq    A      3  a.xtwmlq@edu.hse.ru\n",
      "7  Msatgq    A      1  a.msatgq@edu.hse.ru\n",
      "8  Cldchg    C      4  c.cldchg@edu.hse.ru\n",
      "9  Cmlvmm    A      2  a.cmlvmm@edu.hse.ru\n"
     ]
    }
   ],
   "source": [
    "import pandas as pd\n",
    "import string\n",
    "import random\n",
    "N = 10\n",
    "score_table = pd.DataFrame({\n",
    "    'surname': [random.choice(string.ascii_uppercase)\\\n",
    "                + \"\".join(random.choice(string.ascii_lowercase) for x in range(5)) \\\n",
    "    for y in range(N)],\n",
    "    'name': [random.choice(string.ascii_uppercase[:5]) for x in range(N)],\n",
    "    'score': [random.randrange(0, 11, 1) for i in range(N)],\n",
    "})\n",
    "score_table['email'] = score_table['name'].str.lower() + \".\" \\\n",
    "                        + score_table['surname'].str.lower() + \"@edu.hse.ru\"\n",
    "\n",
    "print(score_table)"
   ]
  },
  {
   "cell_type": "code",
   "execution_count": 146,
   "metadata": {},
   "outputs": [],
   "source": [
    "def mailResults(score_table):\n",
    "    list_of_tuples = []\n",
    "    for i in range(score_table.shape[0]):\n",
    "        print('{:<14} To: {} \\n\\\n",
    "               Уважаемый {}!\\n\\\n",
    "               Вы получили за курс оценку {}.\\n\\\n",
    "               Хорошего дня.\\n'.format('',score_table.email[i], score_table.name[i], score_table.score[i]))\n",
    "        k = 'Уважаемый {}!\\nВы получили за курс оценку {}.'.format(score_table.name[i], score_table.score[i])\n",
    "        list_of_tuples.append((score_table.email[i],k))\n",
    "        \n",
    "        \n",
    "    return list_of_tuples"
   ]
  },
  {
   "cell_type": "code",
   "execution_count": 147,
   "metadata": {},
   "outputs": [
    {
     "name": "stdout",
     "output_type": "stream",
     "text": [
      "               To: a.nmkznp@edu.hse.ru \n",
      "               Уважаемый A!\n",
      "               Вы получили за курс оценку 9.\n",
      "               Хорошего дня.\n",
      "\n",
      "               To: b.dgvoct@edu.hse.ru \n",
      "               Уважаемый B!\n",
      "               Вы получили за курс оценку 4.\n",
      "               Хорошего дня.\n",
      "\n",
      "               To: c.lnwmcn@edu.hse.ru \n",
      "               Уважаемый C!\n",
      "               Вы получили за курс оценку 4.\n",
      "               Хорошего дня.\n",
      "\n",
      "               To: a.iilznc@edu.hse.ru \n",
      "               Уважаемый A!\n",
      "               Вы получили за курс оценку 9.\n",
      "               Хорошего дня.\n",
      "\n",
      "               To: a.uhydgx@edu.hse.ru \n",
      "               Уважаемый A!\n",
      "               Вы получили за курс оценку 5.\n",
      "               Хорошего дня.\n",
      "\n",
      "               To: c.mqaogx@edu.hse.ru \n",
      "               Уважаемый C!\n",
      "               Вы получили за курс оценку 10.\n",
      "               Хорошего дня.\n",
      "\n",
      "               To: a.xtwmlq@edu.hse.ru \n",
      "               Уважаемый A!\n",
      "               Вы получили за курс оценку 3.\n",
      "               Хорошего дня.\n",
      "\n",
      "               To: a.msatgq@edu.hse.ru \n",
      "               Уважаемый A!\n",
      "               Вы получили за курс оценку 1.\n",
      "               Хорошего дня.\n",
      "\n",
      "               To: c.cldchg@edu.hse.ru \n",
      "               Уважаемый C!\n",
      "               Вы получили за курс оценку 4.\n",
      "               Хорошего дня.\n",
      "\n",
      "               To: a.cmlvmm@edu.hse.ru \n",
      "               Уважаемый A!\n",
      "               Вы получили за курс оценку 2.\n",
      "               Хорошего дня.\n",
      "\n"
     ]
    },
    {
     "data": {
      "text/plain": [
       "[('a.nmkznp@edu.hse.ru', 'Уважаемый A!\\nВы получили за курс оценку 9.'),\n",
       " ('b.dgvoct@edu.hse.ru', 'Уважаемый B!\\nВы получили за курс оценку 4.'),\n",
       " ('c.lnwmcn@edu.hse.ru', 'Уважаемый C!\\nВы получили за курс оценку 4.'),\n",
       " ('a.iilznc@edu.hse.ru', 'Уважаемый A!\\nВы получили за курс оценку 9.'),\n",
       " ('a.uhydgx@edu.hse.ru', 'Уважаемый A!\\nВы получили за курс оценку 5.'),\n",
       " ('c.mqaogx@edu.hse.ru', 'Уважаемый C!\\nВы получили за курс оценку 10.'),\n",
       " ('a.xtwmlq@edu.hse.ru', 'Уважаемый A!\\nВы получили за курс оценку 3.'),\n",
       " ('a.msatgq@edu.hse.ru', 'Уважаемый A!\\nВы получили за курс оценку 1.'),\n",
       " ('c.cldchg@edu.hse.ru', 'Уважаемый C!\\nВы получили за курс оценку 4.'),\n",
       " ('a.cmlvmm@edu.hse.ru', 'Уважаемый A!\\nВы получили за курс оценку 2.')]"
      ]
     },
     "execution_count": 147,
     "metadata": {},
     "output_type": "execute_result"
    }
   ],
   "source": [
    "mailResults(score_table)"
   ]
  },
  {
   "cell_type": "code",
   "execution_count": 148,
   "metadata": {},
   "outputs": [
    {
     "name": "stdout",
     "output_type": "stream",
     "text": [
      "               To: a.nmkznp@edu.hse.ru \n",
      "               Уважаемый A!\n",
      "               Вы получили за курс оценку 9.\n",
      "               Хорошего дня.\n",
      "\n",
      "               To: b.dgvoct@edu.hse.ru \n",
      "               Уважаемый B!\n",
      "               Вы получили за курс оценку 4.\n",
      "               Хорошего дня.\n",
      "\n",
      "               To: c.lnwmcn@edu.hse.ru \n",
      "               Уважаемый C!\n",
      "               Вы получили за курс оценку 4.\n",
      "               Хорошего дня.\n",
      "\n",
      "               To: a.iilznc@edu.hse.ru \n",
      "               Уважаемый A!\n",
      "               Вы получили за курс оценку 9.\n",
      "               Хорошего дня.\n",
      "\n",
      "               To: a.uhydgx@edu.hse.ru \n",
      "               Уважаемый A!\n",
      "               Вы получили за курс оценку 5.\n",
      "               Хорошего дня.\n",
      "\n",
      "               To: c.mqaogx@edu.hse.ru \n",
      "               Уважаемый C!\n",
      "               Вы получили за курс оценку 10.\n",
      "               Хорошего дня.\n",
      "\n",
      "               To: a.xtwmlq@edu.hse.ru \n",
      "               Уважаемый A!\n",
      "               Вы получили за курс оценку 3.\n",
      "               Хорошего дня.\n",
      "\n",
      "               To: a.msatgq@edu.hse.ru \n",
      "               Уважаемый A!\n",
      "               Вы получили за курс оценку 1.\n",
      "               Хорошего дня.\n",
      "\n",
      "               To: c.cldchg@edu.hse.ru \n",
      "               Уважаемый C!\n",
      "               Вы получили за курс оценку 4.\n",
      "               Хорошего дня.\n",
      "\n",
      "               To: a.cmlvmm@edu.hse.ru \n",
      "               Уважаемый A!\n",
      "               Вы получили за курс оценку 2.\n",
      "               Хорошего дня.\n",
      "\n",
      "[('a.nmkznp@edu.hse.ru', 'Уважаемый A!\\nВы получили за курс оценку 9.'), ('b.dgvoct@edu.hse.ru', 'Уважаемый B!\\nВы получили за курс оценку 4.'), ('c.lnwmcn@edu.hse.ru', 'Уважаемый C!\\nВы получили за курс оценку 4.'), ('a.iilznc@edu.hse.ru', 'Уважаемый A!\\nВы получили за курс оценку 9.'), ('a.uhydgx@edu.hse.ru', 'Уважаемый A!\\nВы получили за курс оценку 5.'), ('c.mqaogx@edu.hse.ru', 'Уважаемый C!\\nВы получили за курс оценку 10.'), ('a.xtwmlq@edu.hse.ru', 'Уважаемый A!\\nВы получили за курс оценку 3.'), ('a.msatgq@edu.hse.ru', 'Уважаемый A!\\nВы получили за курс оценку 1.'), ('c.cldchg@edu.hse.ru', 'Уважаемый C!\\nВы получили за курс оценку 4.'), ('a.cmlvmm@edu.hse.ru', 'Уважаемый A!\\nВы получили за курс оценку 2.')]\n"
     ]
    }
   ],
   "source": [
    "print(mailResults(score_table))"
   ]
  },
  {
   "cell_type": "code",
   "execution_count": 149,
   "metadata": {},
   "outputs": [
    {
     "name": "stdout",
     "output_type": "stream",
     "text": [
      "Уважаемый E!\n",
      "Вы получили за курс оценку 4.\n"
     ]
    }
   ],
   "source": [
    "# Подсказка, про список кортежей\n",
    "s = [(\"e.pfnayn@edu.hse.ru\", \"Уважаемый E!\\nВы получили за курс оценку 4.\"), \\\n",
    "     (\"c.nantug@edu.hse.ru\", \"Уважаемый C!\\nВы получили за курс оценку 10.\")]\n",
    "print(s[0][1])"
   ]
  },
  {
   "cell_type": "code",
   "execution_count": 3,
   "metadata": {},
   "outputs": [
    {
     "name": "stdout",
     "output_type": "stream",
     "text": [
      "To: e.pfnayn@edu.hse.ru\n",
      "Уважаемый E!\n"
     ]
    }
   ],
   "source": [
    "# еще одна подсказка\n",
    "print(\"To: e.pfnayn@edu.hse.ru\", \"Уважаемый E!\", sep = \"\\n\")"
   ]
  },
  {
   "cell_type": "markdown",
   "metadata": {},
   "source": [
    "## Задача 2.5 DCF model\n",
    "Написать функцию `PresentValue(cash_table, dicount_rate)`, которая рассчитывает приведенную стоимость по заданной таблице `cash_table` с датами и размерами платежей. Даты платежей измеряются в долях года от текущего момента. `discout_rate` в долях (не в процентах)."
   ]
  },
  {
   "cell_type": "code",
   "execution_count": 159,
   "metadata": {},
   "outputs": [
    {
     "data": {
      "text/html": [
       "<div>\n",
       "<style scoped>\n",
       "    .dataframe tbody tr th:only-of-type {\n",
       "        vertical-align: middle;\n",
       "    }\n",
       "\n",
       "    .dataframe tbody tr th {\n",
       "        vertical-align: top;\n",
       "    }\n",
       "\n",
       "    .dataframe thead th {\n",
       "        text-align: right;\n",
       "    }\n",
       "</style>\n",
       "<table border=\"1\" class=\"dataframe\">\n",
       "  <thead>\n",
       "    <tr style=\"text-align: right;\">\n",
       "      <th></th>\n",
       "      <th>date</th>\n",
       "      <th>cash</th>\n",
       "    </tr>\n",
       "  </thead>\n",
       "  <tbody>\n",
       "    <tr>\n",
       "      <th>0</th>\n",
       "      <td>1.75</td>\n",
       "      <td>30</td>\n",
       "    </tr>\n",
       "    <tr>\n",
       "      <th>1</th>\n",
       "      <td>3.75</td>\n",
       "      <td>30</td>\n",
       "    </tr>\n",
       "    <tr>\n",
       "      <th>2</th>\n",
       "      <td>4.50</td>\n",
       "      <td>80</td>\n",
       "    </tr>\n",
       "    <tr>\n",
       "      <th>3</th>\n",
       "      <td>4.75</td>\n",
       "      <td>50</td>\n",
       "    </tr>\n",
       "    <tr>\n",
       "      <th>4</th>\n",
       "      <td>5.25</td>\n",
       "      <td>20</td>\n",
       "    </tr>\n",
       "    <tr>\n",
       "      <th>5</th>\n",
       "      <td>6.00</td>\n",
       "      <td>80</td>\n",
       "    </tr>\n",
       "    <tr>\n",
       "      <th>6</th>\n",
       "      <td>6.75</td>\n",
       "      <td>40</td>\n",
       "    </tr>\n",
       "    <tr>\n",
       "      <th>7</th>\n",
       "      <td>7.75</td>\n",
       "      <td>10</td>\n",
       "    </tr>\n",
       "    <tr>\n",
       "      <th>8</th>\n",
       "      <td>8.25</td>\n",
       "      <td>20</td>\n",
       "    </tr>\n",
       "    <tr>\n",
       "      <th>9</th>\n",
       "      <td>9.25</td>\n",
       "      <td>70</td>\n",
       "    </tr>\n",
       "  </tbody>\n",
       "</table>\n",
       "</div>"
      ],
      "text/plain": [
       "   date  cash\n",
       "0  1.75    30\n",
       "1  3.75    30\n",
       "2  4.50    80\n",
       "3  4.75    50\n",
       "4  5.25    20\n",
       "5  6.00    80\n",
       "6  6.75    40\n",
       "7  7.75    10\n",
       "8  8.25    20\n",
       "9  9.25    70"
      ]
     },
     "execution_count": 159,
     "metadata": {},
     "output_type": "execute_result"
    }
   ],
   "source": [
    "import pandas as pd\n",
    "import random\n",
    "from numpy import arange\n",
    "N = 10\n",
    "cash_table = pd.DataFrame({\n",
    "    'date': random.sample(list(arange(0.25, N, 0.25)), N),\n",
    "    'cash': [random.randrange(1, 11, 1) * 10 for x in range(N)]\n",
    "})\n",
    "\n",
    "cash_table = cash_table.sort_values(by = ['date']).reset_index(drop = True)\n",
    "\n",
    "cash_table"
   ]
  },
  {
   "cell_type": "code",
   "execution_count": 164,
   "metadata": {},
   "outputs": [],
   "source": [
    "def PresentValue(cash_table, discount_rate):\n",
    "   \n",
    "    tot = 0\n",
    "    \n",
    "    for i in range(cash_table.shape[0]):\n",
    "        \n",
    "        v = cash_table.cash[i]/((1+discount_rate)**cash_table.date[i])\n",
    "        \n",
    "        tot += v\n",
    "   \n",
    "    return tot\n"
   ]
  },
  {
   "cell_type": "code",
   "execution_count": 165,
   "metadata": {},
   "outputs": [
    {
     "data": {
      "text/plain": [
       "325.169517506658"
      ]
     },
     "execution_count": 165,
     "metadata": {},
     "output_type": "execute_result"
    }
   ],
   "source": [
    "PresentValue(cash_table, 0.05)"
   ]
  },
  {
   "cell_type": "markdown",
   "metadata": {},
   "source": [
    "## Задача 2.6 Сигнал\n",
    "Написать функцию `signal(x)`, которая работает следующим образом:\n",
    "- принимает значение 1 и печатает \"buy\", если x > 0;\n",
    "\n",
    "- принимает значение -1 и печатает \"sell\", если x < 0;\n",
    "\n",
    "- принимает значение 0 и печатает \"nothing\" в иных случаях."
   ]
  },
  {
   "cell_type": "code",
   "execution_count": 63,
   "metadata": {},
   "outputs": [],
   "source": [
    "def signal(x):\n",
    "    if x > 0:\n",
    "        print('buy')\n",
    "        return 1\n",
    "    elif x < 0:\n",
    "        print('sell')\n",
    "        return -1\n",
    "    else:\n",
    "        print('nothing')\n",
    "        return 0\n",
    "    "
   ]
  },
  {
   "cell_type": "code",
   "execution_count": 64,
   "metadata": {},
   "outputs": [
    {
     "name": "stdout",
     "output_type": "stream",
     "text": [
      "buy\n"
     ]
    }
   ],
   "source": [
    "t = signal(9)"
   ]
  },
  {
   "cell_type": "code",
   "execution_count": 65,
   "metadata": {},
   "outputs": [
    {
     "data": {
      "text/plain": [
       "1"
      ]
     },
     "execution_count": 65,
     "metadata": {},
     "output_type": "execute_result"
    }
   ],
   "source": [
    "t"
   ]
  },
  {
   "cell_type": "markdown",
   "metadata": {},
   "source": [
    "## Задача 2.7 Какая разница?\n",
    "Написать функцию `diff(x1, x2, ...)`, принимающую на вход несколько чисел и возвращающую список из разностей соседних элементов. Пользоваться библиотечными функциями нельзя.\n",
    "\n",
    "Пример:\n",
    "```\n",
    "diff(1, 2, 3)\n",
    "> [1, 1]\n",
    "diff(1, 2, 3, 4)\n",
    "> [1, 1, 1]\n",
    "diff(1, 2, 3, 4, 5)\n",
    "> [1, 1, 1, 1]\n",
    "```"
   ]
  },
  {
   "cell_type": "code",
   "execution_count": 83,
   "metadata": {},
   "outputs": [],
   "source": [
    "def diff(*args, t = []):\n",
    "    f = 1\n",
    "    s = 0\n",
    "    while f<len(args):\n",
    "        y = args[f] - args[s]\n",
    "        f +=1\n",
    "        s +=1\n",
    "        t.append(y)\n",
    "    return t"
   ]
  },
  {
   "cell_type": "code",
   "execution_count": 84,
   "metadata": {},
   "outputs": [
    {
     "data": {
      "text/plain": [
       "[1, 1, 1]"
      ]
     },
     "execution_count": 84,
     "metadata": {},
     "output_type": "execute_result"
    }
   ],
   "source": [
    "diff(5,6,7,8)"
   ]
  },
  {
   "cell_type": "markdown",
   "metadata": {},
   "source": [
    "## Задача 2.8 Плавающая сумма\n",
    "*Задача взята из [курса Щурова](http://math-info.hse.ru/2015-16/%D0%9F%D1%80%D0%BE%D0%B3%D1%80%D0%B0%D0%BC%D0%BC%D0%B8%D1%80%D0%BE%D0%B2%D0%B0%D0%BD%D0%B8%D0%B5_%D0%BD%D0%B0_%D1%8F%D0%B7%D1%8B%D0%BA%D0%B5_Python_%D0%B4%D0%BB%D1%8F_%D1%81%D0%B1%D0%BE%D1%80%D0%B0_%D0%B8_%D0%B0%D0%BD%D0%B0%D0%BB%D0%B8%D0%B7%D0%B0_%D0%B4%D0%B0%D0%BD%D0%BD%D1%8B%D1%85) лицензия [CC BY-SA \n",
    "4.0](https://creativecommons.org/licenses/by-sa/4.0/deed.ru)*\n",
    "\n",
    "Написать функцию `append_sum(str_floats)`, принимающую на вход список `str_floats`, состоящий из строк, в которых записаны некоторые вещественные числа (с плавающей запятой), и создающую новый список со следующими свойствами: \n",
    "\n",
    "1. Все элементы нового списка получаются из элементов старого преобразованием к типу «число с плавающей точкой». \n",
    "2. В конец списка добавляется ещё один элемент, равный сумме всех других элементов.\n",
    "\n",
    "После этого новый список возвращается функцией.\n",
    "\n",
    "Пример: для списка `[\"0.125\",\"0.5\"]` должен быть возвращён список `[0.125, 0.5, 0.625]`."
   ]
  },
  {
   "cell_type": "code",
   "execution_count": 225,
   "metadata": {},
   "outputs": [],
   "source": [
    "def append_sum(str_floats):\n",
    "    t = []\n",
    "    for i in str_floats:\n",
    "        t.append(float(i))\n",
    "    \n",
    "    t_sum = sum(t)\n",
    "    t.append(t_sum)\n",
    "    return t"
   ]
  },
  {
   "cell_type": "code",
   "execution_count": 226,
   "metadata": {},
   "outputs": [
    {
     "data": {
      "text/plain": [
       "[0.125, 0.5, 0.625]"
      ]
     },
     "execution_count": 226,
     "metadata": {},
     "output_type": "execute_result"
    }
   ],
   "source": [
    "append_sum([\"0.125\",\"0.5\"])"
   ]
  },
  {
   "cell_type": "markdown",
   "metadata": {},
   "source": [
    "## Задача 2.9 Отбросить негатив!\n",
    "Написать функцию `be_positive(v, z, inplace)` принимающую на вход массив чисел (numpy.array или list на ваш выбор) `v`, и возвращающую массив, полученный из `v` путём замены всех отрицательных элементов на `z` (по умолчанию 0).Если указан параметр `in_place` и он равен `True`, то функция должна менять исходный массив, а если не указан или указан в `False`, то сохранять его неизменным.\n",
    "\n",
    "Примеры:\n",
    "```\n",
    "numeric_list = [1, 4, -1, 3, -2, 0]\n",
    "positive_list = be_positive(numeric_list)\n",
    "print(positive_list)\n",
    "> [1, 4, 0, 3, 0, 0]\n",
    "-----------------\n",
    "numeric_array = numpy.array(numeric_list)\n",
    "positive_array = be_positive(numeric_array, 1000)\n",
    "print(positive_array)\n",
    "> array([1, 4, 1000, 3, 1000, 1000])\n",
    "-----------------\n",
    "numeric_list = [1, 4, -1, 3, -2, 0]\n",
    "positive_list = be_positive(numeric_list, z = 0, in_place = True)\n",
    "print(positive_list)\n",
    "> [1, 4, 0, 3, 0, 0]\n",
    "print(numeric_list)\n",
    "> [1, 4, 0, 3, 0, 0]\n",
    "```"
   ]
  },
  {
   "cell_type": "code",
   "execution_count": 310,
   "metadata": {},
   "outputs": [],
   "source": [
    "import numpy as np\n",
    "v = np.array([1, 4, -1, 3, -2, 0])\n",
    "def be_positive(v, z=0,inplace=None):\n",
    "    \n",
    "    positive_list = []\n",
    "    for i in v:\n",
    "        if i>=0:\n",
    "            positive_list.append(i)\n",
    "        else:\n",
    "            positive_list.append(z)  \n",
    "    if inplace==True:\n",
    "        for i in range(len(positive_list)):\n",
    "            if v[i] != positive_list[i]:\n",
    "                v[i] = positive_list[i]\n",
    "\n",
    "    return positive_list\n"
   ]
  },
  {
   "cell_type": "code",
   "execution_count": 312,
   "metadata": {},
   "outputs": [
    {
     "name": "stdout",
     "output_type": "stream",
     "text": [
      "[1, 4, 0, 3, 0, 0]\n",
      "[1, 4, 0, 3, 0, 0]\n"
     ]
    }
   ],
   "source": [
    "n = [1, 4, -1, 3, -2, 0]\n",
    "po = be_positive(n,inplace=True)\n",
    "print(po)\n",
    "print(n)"
   ]
  },
  {
   "cell_type": "markdown",
   "metadata": {},
   "source": [
    "## Задача 2.10 Скользящее среднее\n",
    "Написать функцию `moving_average(v, size)` принимающую на вход массив чисел (numpy.array или list на ваш выбор) `v` и параметр `size` (натуральное число), и возвращающую массив чисел, состоящих из значений скользящей средней с окном `size`. Если в параметр `size` передан список натуральных чисел, то вернуть список из массивов скользащих средних для каждого элемента списка `size`."
   ]
  },
  {
   "cell_type": "code",
   "execution_count": 372,
   "metadata": {},
   "outputs": [
    {
     "data": {
      "text/plain": [
       "[array([2.        , 4.        , 6.33333333]),\n",
       " array([3.25, 5.25]),\n",
       " array([4.4])]"
      ]
     },
     "execution_count": 372,
     "metadata": {},
     "output_type": "execute_result"
    }
   ],
   "source": [
    "moving_average(v,size)"
   ]
  },
  {
   "cell_type": "code",
   "execution_count": 371,
   "metadata": {},
   "outputs": [],
   "source": [
    "v = [1, 2, 3, 7, 9]\n",
    "size = [3,4,5]\n",
    "\n",
    "def moving_average(v, size):\n",
    "    if type(size)!=list:\n",
    "        i = 0\n",
    "        ma_list = []\n",
    "        while i<len(v) - size+1:\n",
    "            curr_w = v[i : i + size]\n",
    "\n",
    "\n",
    "            curr_ma = sum(curr_w)/size\n",
    "            ma_list.append(curr_ma)\n",
    "            i += 1\n",
    "        return ma_list\n",
    "    \n",
    "    else:\n",
    "        all_l = []\n",
    "        for s in size:\n",
    "            i = 0\n",
    "            ma_list = []\n",
    "            while i<len(v) - s+1:\n",
    "                curr_w = v[i : i + s]\n",
    "\n",
    "\n",
    "                curr_ma = sum(curr_w)/s\n",
    "                ma_list.append(curr_ma)\n",
    "                i += 1\n",
    "            all_l.append(np.array(ma_list))\n",
    "        return all_l\n",
    "            "
   ]
  },
  {
   "cell_type": "code",
   "execution_count": null,
   "metadata": {},
   "outputs": [],
   "source": []
  },
  {
   "cell_type": "markdown",
   "metadata": {},
   "source": [
    "## Задача 2.11 За(не)чёт\n",
    "Написать функцию `is_odd(n)`, проверяющую, является ли данное целое число `n` нечётным. Она должна возвращать `True`, если число нечётное, и `False`, если чётное."
   ]
  },
  {
   "cell_type": "code",
   "execution_count": 153,
   "metadata": {},
   "outputs": [],
   "source": [
    "def is_odd(n):\n",
    "    if n%2==0:\n",
    "        return True\n",
    "    else:\n",
    "        return False"
   ]
  },
  {
   "cell_type": "code",
   "execution_count": 155,
   "metadata": {},
   "outputs": [
    {
     "data": {
      "text/plain": [
       "True"
      ]
     },
     "execution_count": 155,
     "metadata": {},
     "output_type": "execute_result"
    }
   ],
   "source": [
    "is_odd(10)"
   ]
  },
  {
   "cell_type": "markdown",
   "metadata": {},
   "source": [
    "## Задача 2.12 Выбор налогового вычета по ИИС\n",
    "Написать функцию `iia_type(income, invest, returns)`, возвращающую рекомендуемый (наиболее выгодный) [тип налогового вычета по ИИС](https://journal.tinkoff.ru/ask/vybor-vycheta/), а получающую на вход три списка одинаковой длины, содержащих информацию об инвесторе:\n",
    "- `income` -- список доходов инвестора за каждый год;\n",
    "\n",
    "- `invest` -- список вложений на ИИС за каждый год;\n",
    "\n",
    "- `returns` -- годовая доходность (в %) ИИС за каждый год\n",
    "\n",
    "Считать, что вложения на ИИС производятся одним траншем в начале года. Диконт-фактор не учитывать.\n",
    "\n",
    "*Замечания*\n",
    "- списки могут быть любой, но одинаковой длины. Списки длиной $<3$ дают тривиалный ответ, так что можно считать, что длина списков всегда не меньше 3.\n",
    "\n",
    "- вычет А можно получить только за последние три года, вычет B за любой срок.\n",
    "\n",
    "- доходы `income` не включают заработок на ИИС\n",
    "\n",
    "- если что-то остается непонятным, можете явно написать, как и что вы считаете"
   ]
  },
  {
   "cell_type": "code",
   "execution_count": 357,
   "metadata": {},
   "outputs": [],
   "source": [
    "#считаем что суммы вводятся в тысячах рублей\n",
    "def iia_type(income, invest, returns):\n",
    "    job_tax = np.array(income)*0.13\n",
    "    invest_tax = sum(np.array(invest)*np.array(returns))\n",
    "    for i in range(len(job_tax)):\n",
    "        if job_tax[i]>52:\n",
    "            job_tax[i]=52\n",
    "    job_tax_sum= np.sum(job_tax)\n",
    "    if job_tax_sum>invest_tax:\n",
    "        return('Мы рекомендуем вам вычет типа А, т.к. вы возвратите большую сумму налога')\n",
    "    if job_tax_sum<invest_tax:\n",
    "        return 'Рекомендуем вам тип вычета Б, т.к. сэкономленный налог на прибыль с инвестиций больше, чем экономия на налоге с зарплаты'\n",
    "    if job_tax_sum==invest_tax:\n",
    "        return 'Вы с одинаковой пользой для себя можете использовать любой из вычетов'\n",
    "    "
   ]
  },
  {
   "cell_type": "code",
   "execution_count": 358,
   "metadata": {},
   "outputs": [],
   "source": [
    "income = [34,45,56,67,87]\n",
    "invest = [3500,3440,5000,5400,7600]\n",
    "returns= [0.14, 0.15, 0.18, 0.17, 0.2]\n"
   ]
  },
  {
   "cell_type": "code",
   "execution_count": 359,
   "metadata": {},
   "outputs": [
    {
     "data": {
      "text/plain": [
       "'Рекомендуем вам тип вычета Б, т.к. сэкономленный налог на прибыль с инвестиций больше, чем экономия на налоге с зарплаты'"
      ]
     },
     "execution_count": 359,
     "metadata": {},
     "output_type": "execute_result"
    }
   ],
   "source": [
    "iia_type(income, invest, returns)"
   ]
  },
  {
   "cell_type": "markdown",
   "metadata": {},
   "source": [
    "## Задача 2.13 Средневзвешенная стоимость капитала\n",
    "Написать функцию `wacc(E, D, re, rd, t)` рассчитывающую средневзвешенную стоимость капитала исходя из введенных параметров."
   ]
  },
  {
   "cell_type": "code",
   "execution_count": 156,
   "metadata": {},
   "outputs": [],
   "source": [
    "# WACC= Re(E/V) + Rd(D/V)(1 — tc)\n",
    "def wacc(E, D, re, rd, t):\n",
    "    return re*(E/V)+rd*(D/V)*(1-t)\n",
    "    "
   ]
  },
  {
   "cell_type": "markdown",
   "metadata": {},
   "source": [
    "## Задача 2.14 Дюрация облигации\n",
    "Написать функцию `bonduration(CF, t, P, N, T, YTM)`, рассчитывающую дюрацию Маколея по следующим параметрам:\n",
    "\n",
    "- `CF` -- размер купонных выплат\n",
    "\n",
    "- `t` -- периодичность купонных выплат (доли года)\n",
    "\n",
    "- `P` -- цена облигации\n",
    "\n",
    "- `N` -- номинал облигации\n",
    "\n",
    "- `T` -- срок до погашения (в годах)\n",
    "\n",
    "- `YTM` -- доходность к погашению\n"
   ]
  },
  {
   "cell_type": "code",
   "execution_count": 331,
   "metadata": {},
   "outputs": [],
   "source": [
    "def bonduration(CF, t, P, N, T, YTM):\n",
    "    sum_pv =sum((CF+N)/(1+0.5)**np.array(range(int(T/t))))\n",
    "    return sum_pv/P"
   ]
  },
  {
   "cell_type": "markdown",
   "metadata": {},
   "source": [
    "## Задача 2.15 Дюрация портфеля\n",
    "Написать функцию `duration(df)`, расчитывающую взвешенную дюрацию по портфелю из облигаций, информация о котором представлена в датафрейме pandas со следующими столбцами:\n",
    "\n",
    "- `name` - название облигации\n",
    "\n",
    "- `volume` - объем позиции\n",
    "\n",
    "- `price` -- цена облигации\n",
    "\n",
    "- `coupon` -- размер купонных выплат\n",
    "\n",
    "- `t` -- периодичность купонных выплат (в днях)\n",
    "\n",
    "- `N` -- номинал облигации\n",
    "\n",
    "- `T` -- срок погашения (дата)\n",
    "\n",
    "- `YTM` -- доходность к погашению\n",
    "\n",
    "Можно использовать функцию из предыдущего задания"
   ]
  },
  {
   "cell_type": "code",
   "execution_count": 360,
   "metadata": {},
   "outputs": [],
   "source": [
    "def duration (df):\n",
    "    t =0\n",
    "    for i in range(df.shape[i]):\n",
    "        sum_pv =sum((CF+N)/(1+0.5)**np.array(range(int(T*365/t))))\n",
    "        t+= sum_pv/P\n",
    "        \n",
    "    return t/df.shape[0]"
   ]
  },
  {
   "cell_type": "markdown",
   "metadata": {},
   "source": [
    "## Задача 2.16 Халява приди!\n",
    "Написать функцию `py4fin_grade(ФИО, группа)`, получающую на вход данные о студенте, печатающую текст (см. пример), и возвращающую случайное целое число от 4 до 10.\n",
    "\n",
    "Пример\n",
    "\n",
    "`score = py4fin_grade(\"Гаращук Глеб Викторович\", \"8КФ\")`\n",
    "> Ура! Гаращук Глеб Викторович из группы 8КФ получил(а) \"зачёт\" за курс \"Python для сбора и анализа данных\"\n",
    "\n",
    "`print(score)`\n",
    "> 4\n",
    "\n"
   ]
  },
  {
   "cell_type": "code",
   "execution_count": 41,
   "metadata": {},
   "outputs": [],
   "source": [
    "\n",
    "def py4fin_grade(ФИО, группа):\n",
    "    print('Ура! {} из группы {} получил(а) \"зачёт\" за курс \"Python для сбора и анализа данных'.format(ФИО, группа))\n",
    "    return random.randint(4,11)"
   ]
  },
  {
   "cell_type": "code",
   "execution_count": 42,
   "metadata": {},
   "outputs": [
    {
     "name": "stdout",
     "output_type": "stream",
     "text": [
      "Ура! Гаращук Глеб Викторович из группы 8КФ получил(а) \"зачёт\" за курс \"Python для сбора и анализа данных\n"
     ]
    }
   ],
   "source": [
    "score = py4fin_grade(\"Гаращук Глеб Викторович\", \"8КФ\")"
   ]
  },
  {
   "cell_type": "code",
   "execution_count": 43,
   "metadata": {},
   "outputs": [
    {
     "name": "stdout",
     "output_type": "stream",
     "text": [
      "6\n"
     ]
    }
   ],
   "source": [
    "print(score)"
   ]
  }
 ],
 "metadata": {
  "kernelspec": {
   "display_name": "Python 3 (ipykernel)",
   "language": "python",
   "name": "python3"
  },
  "language_info": {
   "codemirror_mode": {
    "name": "ipython",
    "version": 3
   },
   "file_extension": ".py",
   "mimetype": "text/x-python",
   "name": "python",
   "nbconvert_exporter": "python",
   "pygments_lexer": "ipython3",
   "version": "3.8.10"
  }
 },
 "nbformat": 4,
 "nbformat_minor": 2
}
