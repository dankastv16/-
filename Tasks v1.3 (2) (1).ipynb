{
 "cells": [
  {
   "cell_type": "markdown",
   "metadata": {},
   "source": [
    "# Задачи на основы синтаксиса"
   ]
  },
  {
   "cell_type": "markdown",
   "metadata": {},
   "source": [
    "## Задача 1.1 Unix-конвертер\n",
    "Пользователь с клавиатуры вводит время в формате в формате Unix (https://ru.wikipedia.org/wiki/Unix-время). Необходимо вывести соответствующее время в формате YYYY-MM-DD hh:mm:ss.\n",
    "\n",
    "**Замечание** Задание необходимо выполнить без импорта библиотек и модулей.\n",
    "\n",
    "Пример\n",
    "> input\n",
    ">\n",
    "> `1592600399`\n",
    ">\n",
    "> output\n",
    ">\n",
    "> `2020-06-19 23:59:59`\n"
   ]
  },
  {
   "cell_type": "code",
   "execution_count": 7,
   "metadata": {},
   "outputs": [],
   "source": [
    "nonv_year = dict(zip(('01','02','03','04','05','06','07','08','09','10','11','12'),\n",
    "                 (31,28,31,30,31,30,31, 31, 30, 31, 30,31)))"
   ]
  },
  {
   "cell_type": "code",
   "execution_count": 8,
   "metadata": {},
   "outputs": [],
   "source": [
    "v_year = dict(zip(('01', '02','03','04','05','06','07','08','09', '10','11','12'),\n",
    "                  (31,29,31, 30,31,30, 31,31,30,31,30,31)))"
   ]
  },
  {
   "cell_type": "code",
   "execution_count": 10,
   "metadata": {},
   "outputs": [
    {
     "name": "stdout",
     "output_type": "stream",
     "text": [
      "1592600399\n",
      "2020-07-02 20:59:59\n"
     ]
    }
   ],
   "source": [
    "start_year = 1970\n",
    "sec = int(input())\n",
    "our_time=sec\n",
    "n = 0\n",
    "if our_time > 2147558399:\n",
    "    print(\"ошибка: Unix формат заканчивается 19 января 2038 года\")\n",
    "else: \n",
    "    y = start_year + our_time // 31536000  \n",
    "    if y % 4 !=0 or (y%100!=0):\n",
    "        curr_year = False   \n",
    "    else:\n",
    "        curr_year = True\n",
    "    #считаем сколько високосных лет\n",
    "    yv = (y - start_year) // 4     \n",
    "    while yv > 365:\n",
    "        yv = yv - 365\n",
    "        y += 1\n",
    "        n += 1\n",
    "         \n",
    "    years_after = (y - start_year)\n",
    "    days = years_after * 365 + curr_year - 1 \n",
    "    d= (our_time + n * 31622400) // 86400 - days   \n",
    "    if  curr_year == True:\n",
    "        for key, value in v_year.items():\n",
    "           \n",
    "            d = d - int(key)\n",
    "            if d < 0:\n",
    "                d = value + d\n",
    "                break\n",
    "       \n",
    "    if curr_year == False:\n",
    "        for key, value in nonv_year.items():\n",
    "            \n",
    "            d = d - value\n",
    "            if d < 0:\n",
    "                d = value + d\n",
    "                break    \n",
    "    if y == 1970: \n",
    "        h = ((our_time // 3600)) % 24\n",
    "        m = (our_time // 60) % 60\n",
    "        s = our_time % 60  \n",
    "    elif y > 1970:\n",
    "           \n",
    "        sl = our_time - days * 86400\n",
    "        h = ((sl // 3600)) % 24\n",
    "        m = (sl // 60) % 60\n",
    "        s = sl % 60\n",
    "\n",
    "    print('%d-%02d-%02d %d:%02d:%02d'% (y, int(key), d, h, m, s))"
   ]
  },
  {
   "cell_type": "markdown",
   "metadata": {},
   "source": [
    "### Комментарий\n",
    "Очень грубый рассчет. нужно учитывать високосные года и разную длину месяцев"
   ]
  },
  {
   "cell_type": "markdown",
   "metadata": {},
   "source": [
    "## Задача 1.2 Сколько уже торгуем?\n",
    "Пользователь с клавиатуры вводит время в миллисекундах с начала торгового дня. Определить, какая сейчас идет секунда в формате hh:mm:ss. Торговый день начинается в 10:00:00\n",
    "\n",
    "**Замечание** Задание необходимо выполнить без импорта библиотек.\n",
    "\n",
    "Пример\n",
    "> input\n",
    ">\n",
    "> `1000`\n",
    ">\n",
    "> output\n",
    ">\n",
    "> `10:00:01`"
   ]
  },
  {
   "cell_type": "code",
   "execution_count": 34,
   "metadata": {},
   "outputs": [
    {
     "name": "stdout",
     "output_type": "stream",
     "text": [
      "1000\n"
     ]
    }
   ],
   "source": [
    "work_last= int(input())"
   ]
  },
  {
   "cell_type": "code",
   "execution_count": 35,
   "metadata": {},
   "outputs": [],
   "source": [
    "h = 3600000\n",
    "mi = 60000\n",
    "s = 1000\n",
    "work_start = 10*h"
   ]
  },
  {
   "cell_type": "code",
   "execution_count": 36,
   "metadata": {},
   "outputs": [],
   "source": [
    "hour = work_last//h\n",
    "minute = (work_last - hour*h)//mi\n",
    "second = round((work_last - hour*h - minute*mi)/s)"
   ]
  },
  {
   "cell_type": "code",
   "execution_count": 37,
   "metadata": {},
   "outputs": [],
   "source": [
    "\n",
    "hour+=10\n",
    "if len(str(hour))==1:\n",
    "    hour = '0'+str(hour)\n",
    "if len(str(minute))==1:\n",
    "    minute = '0'+str(minute)    \n",
    "if len(str(second))==1:\n",
    "    second = '0'+str(second)    "
   ]
  },
  {
   "cell_type": "code",
   "execution_count": 38,
   "metadata": {},
   "outputs": [],
   "source": [
    "our_data = [hour, minute, second]"
   ]
  },
  {
   "cell_type": "code",
   "execution_count": 39,
   "metadata": {},
   "outputs": [
    {
     "name": "stdout",
     "output_type": "stream",
     "text": [
      "10:00:01\n"
     ]
    }
   ],
   "source": [
    "print(':'.join(map(str,our_data)))"
   ]
  },
  {
   "cell_type": "markdown",
   "metadata": {},
   "source": [
    "### Комментарий\n",
    "Вы считаете от полночи, на надо от 10 утра"
   ]
  },
  {
   "cell_type": "markdown",
   "metadata": {},
   "source": [
    "## Задача 1.3 ROC-distance\n",
    "Пользователь вводит с клавиатуры два числа от 0 до 1, являющиеся координатами точки ROC-curve(google it). Определить расстояния до точки с координатами (0;1)."
   ]
  },
  {
   "cell_type": "code",
   "execution_count": 21,
   "metadata": {},
   "outputs": [
    {
     "name": "stdout",
     "output_type": "stream",
     "text": [
      "0.5\n",
      "0.5\n",
      "0.7071067811865476\n",
      "1 2\n"
     ]
    }
   ],
   "source": [
    "#задача на расстояние от точки до точки в декартовых координатах на плоскости\n",
    "x = float(input())\n",
    "y = float(input())\n",
    "dist =(x**2 + (1-y)**2)**0.5\n",
    "print(dist)\n",
    "print(round(dist),2)\n",
    "      "
   ]
  },
  {
   "cell_type": "markdown",
   "metadata": {},
   "source": [
    "### Комментарий\n",
    "Ошибка со скобками при округлении, да и не знаю, зачем вы округляете"
   ]
  },
  {
   "cell_type": "markdown",
   "metadata": {},
   "source": [
    "## Задача 1.4 Сколько стоил мне портфель?\n",
    "Пользователь вводит сначала размер комиссии за сделку (в %), а затем тикер, количество бумаг и цену актива (каждый параметр в новом поле). Чтобы прекратить ввод пользователь пишет 0.\n",
    "\n",
    "Необходимо вывести информацию о портфеле в следующем формате:\n",
    "\n",
    "```\n",
    "Вы приобрели AAPL MSFT DAL\n",
    "Всего 3 актива.\n",
    "Издержки на приобретение 1000, в том числе комиссия 5.\n",
    "```\n",
    "\n",
    "**Замечание** размер комиссии за покупку одной бумаги актива не может быть меньше $\\$0.01$ (предположим, что цены в долларах)"
   ]
  },
  {
   "cell_type": "code",
   "execution_count": 1,
   "metadata": {},
   "outputs": [
    {
     "name": "stdout",
     "output_type": "stream",
     "text": [
      "0.09\n",
      "sdf\n",
      "6\n",
      "7\n",
      "0.08\n",
      "t\n",
      "8\n",
      "7\n",
      "0\n",
      "Вы приобрели  sdf t Всего 2 актива. Издержки на приобретение 106.82, в том числе комиссия 0.09\n"
     ]
    }
   ],
   "source": [
    "num=0\n",
    "tot_sum=0\n",
    "com_size=0\n",
    "\n",
    "com = float(input())\n",
    "tick=''\n",
    "\n",
    "while True:\n",
    "    tick = tick+' '+ input()\n",
    "    amount = int(input())\n",
    "    price = float(input())\n",
    "    if price * amount * com < 0.01 :\n",
    "        print('Комиссия должна быть не менее 0.01$!')\n",
    "  \n",
    "    com_size= com_size + price*amount*com\n",
    "    tot_sum = tot_sum+(price*amount + com*price*amount)\n",
    "    num+=1\n",
    "\n",
    "    if input() == '0':\n",
    "        print('Вы приобрели {} Всего {} актива. Издержки на приобретение {}, \\\n",
    "в том числе комиссия {}'.format(tick, num, tot_sum,com))\n",
    "        break\n"
   ]
  },
  {
   "cell_type": "markdown",
   "metadata": {},
   "source": [
    "### Комментарий\n",
    "IndexError: list index out of range"
   ]
  },
  {
   "cell_type": "markdown",
   "metadata": {},
   "source": [
    "## Задача 1.5 Найти делители числа\n",
    "Пользователь вводит с клавиаутры число N. Необходимо вывести все делители этого числа через запятую."
   ]
  },
  {
   "cell_type": "code",
   "execution_count": 387,
   "metadata": {},
   "outputs": [
    {
     "name": "stdout",
     "output_type": "stream",
     "text": [
      "9\n",
      "1, 3, 9\n"
     ]
    }
   ],
   "source": [
    "n = int(input())\n",
    "dividers = []\n",
    "\n",
    "for i in range(1, n+1):\n",
    "    \n",
    "    if n%i==0:\n",
    "        \n",
    "        dividers.append(i)\n",
    "        \n",
    "print(*dividers, sep=', ')"
   ]
  },
  {
   "cell_type": "markdown",
   "metadata": {},
   "source": [
    "## Задача 1.6 Описательные статистики\n",
    "Пользователь поочередно вводит с клавиатуры числа, в том числе нецелые. Ввод последовательности завершается словом \"end\". Необходимо рассчитать максимум, минимум, средее и стандартное отклонение в последовательности."
   ]
  },
  {
   "cell_type": "code",
   "execution_count": 388,
   "metadata": {},
   "outputs": [],
   "source": [
    "from statistics import mean\n",
    "from statistics import stdev"
   ]
  },
  {
   "cell_type": "code",
   "execution_count": 389,
   "metadata": {},
   "outputs": [
    {
     "name": "stdout",
     "output_type": "stream",
     "text": [
      "9\n",
      "8\n",
      "8\n",
      "9\n",
      "end\n"
     ]
    }
   ],
   "source": [
    "p=[]\n",
    "n = input()\n",
    "while n!='end':\n",
    "    n=float(n)\n",
    "    p.append(n)\n",
    "    n = input()"
   ]
  },
  {
   "cell_type": "markdown",
   "metadata": {},
   "source": [
    "## Задача 1.7 Переводчик на \"латынь\"\n",
    "Пользователь вводит натуральное число. Необходимо вывести число в записи рискими цифрами."
   ]
  },
  {
   "cell_type": "code",
   "execution_count": 24,
   "metadata": {},
   "outputs": [],
   "source": [
    "transl = ((1000, 'M'), (900, 'CM'), (500, 'D'), (400, 'CD'),\n",
    "    (100, 'C'), (90, 'XC'), (50, 'L'), (40, 'XL'),\n",
    "    (10, 'X'), (9, 'IX'), (5, 'V'), (4, 'IV'), (1, 'I'))\n",
    "\n",
    "def from_arab_to_rome(n):\n",
    "    if n <= 0: return 'Введите число больше 0!'\n",
    "    resp = ''\n",
    "    for arab, roman in transl:\n",
    "        while n >= arab:\n",
    "            resp += roman\n",
    "            n -= arab\n",
    "    return resp"
   ]
  },
  {
   "cell_type": "code",
   "execution_count": 26,
   "metadata": {},
   "outputs": [
    {
     "name": "stdout",
     "output_type": "stream",
     "text": [
      "8000\n"
     ]
    },
    {
     "ename": "TypeError",
     "evalue": "'<=' not supported between instances of 'str' and 'int'",
     "output_type": "error",
     "traceback": [
      "\u001b[1;31m---------------------------------------------------------------------------\u001b[0m",
      "\u001b[1;31mTypeError\u001b[0m                                 Traceback (most recent call last)",
      "\u001b[1;32m<ipython-input-26-9c7835685531>\u001b[0m in \u001b[0;36m<module>\u001b[1;34m\u001b[0m\n\u001b[0;32m      1\u001b[0m \u001b[0mn\u001b[0m \u001b[1;33m=\u001b[0m \u001b[0minput\u001b[0m\u001b[1;33m(\u001b[0m\u001b[1;33m)\u001b[0m\u001b[1;33m\u001b[0m\u001b[1;33m\u001b[0m\u001b[0m\n\u001b[0;32m      2\u001b[0m \u001b[1;33m\u001b[0m\u001b[0m\n\u001b[1;32m----> 3\u001b[1;33m \u001b[0mfrom_arab_to_rome\u001b[0m\u001b[1;33m(\u001b[0m\u001b[0mn\u001b[0m\u001b[1;33m)\u001b[0m\u001b[1;33m\u001b[0m\u001b[1;33m\u001b[0m\u001b[0m\n\u001b[0m",
      "\u001b[1;32m<ipython-input-24-0ddd14971e26>\u001b[0m in \u001b[0;36mfrom_arab_to_rome\u001b[1;34m(n)\u001b[0m\n\u001b[0;32m      4\u001b[0m \u001b[1;33m\u001b[0m\u001b[0m\n\u001b[0;32m      5\u001b[0m \u001b[1;32mdef\u001b[0m \u001b[0mfrom_arab_to_rome\u001b[0m\u001b[1;33m(\u001b[0m\u001b[0mn\u001b[0m\u001b[1;33m)\u001b[0m\u001b[1;33m:\u001b[0m\u001b[1;33m\u001b[0m\u001b[1;33m\u001b[0m\u001b[0m\n\u001b[1;32m----> 6\u001b[1;33m     \u001b[1;32mif\u001b[0m \u001b[0mn\u001b[0m \u001b[1;33m<=\u001b[0m \u001b[1;36m0\u001b[0m\u001b[1;33m:\u001b[0m \u001b[1;32mreturn\u001b[0m \u001b[1;34m'Введите число больше 0!'\u001b[0m\u001b[1;33m\u001b[0m\u001b[1;33m\u001b[0m\u001b[0m\n\u001b[0m\u001b[0;32m      7\u001b[0m     \u001b[0mresp\u001b[0m \u001b[1;33m=\u001b[0m \u001b[1;34m''\u001b[0m\u001b[1;33m\u001b[0m\u001b[1;33m\u001b[0m\u001b[0m\n\u001b[0;32m      8\u001b[0m     \u001b[1;32mfor\u001b[0m \u001b[0marab\u001b[0m\u001b[1;33m,\u001b[0m \u001b[0mroman\u001b[0m \u001b[1;32min\u001b[0m \u001b[0mtransl\u001b[0m\u001b[1;33m:\u001b[0m\u001b[1;33m\u001b[0m\u001b[1;33m\u001b[0m\u001b[0m\n",
      "\u001b[1;31mTypeError\u001b[0m: '<=' not supported between instances of 'str' and 'int'"
     ]
    }
   ],
   "source": [
    "n = input()\n",
    "\n",
    "from_arab_to_rome(n)"
   ]
  },
  {
   "cell_type": "markdown",
   "metadata": {},
   "source": [
    "### Комментарий\n",
    "TypeError: '<=' not supported between instances of 'str' and 'int'"
   ]
  },
  {
   "cell_type": "markdown",
   "metadata": {},
   "source": [
    "## Задача 1.8 Следующее четное\n",
    "Пользователь вводит число с клавитуры. Необходимо вывести следующее за ним четное число.\n",
    "\n",
    "**Внимание!** при решении задания нельзя использовать условные операторы и циклы."
   ]
  },
  {
   "cell_type": "code",
   "execution_count": null,
   "metadata": {},
   "outputs": [],
   "source": [
    "n = int(input())\n",
    "print(n+2-(n%2))"
   ]
  },
  {
   "cell_type": "markdown",
   "metadata": {},
   "source": [
    "## Задача 1.9 Когда я стану богатым?\n",
    "В банк кладется N рублей под r процентов годовых. Проценты капитализируются каждый квартал. При капитализации дробная часть копеек отбрасывается. Рассчитать, сколько лет потребуется, чтобы сумма вклада превысила M рублей.\n",
    "Параметры задачи пользователь вводит с клавиатуры по отдельности.\n",
    "Точность расчетов: до четверти года.\n",
    "\n",
    "Пример\n",
    "\n",
    ">input\n",
    ">\n",
    ">`N: 10000`\n",
    ">\n",
    ">`r(%): 5`\n",
    ">\n",
    ">`M: 12000`\n",
    ">\n",
    ">output\n",
    ">\n",
    ">`3.75` или `3 года 9 месяцев`"
   ]
  },
  {
   "cell_type": "code",
   "execution_count": null,
   "metadata": {},
   "outputs": [],
   "source": [
    "from math import floor"
   ]
  },
  {
   "cell_type": "code",
   "execution_count": null,
   "metadata": {},
   "outputs": [],
   "source": [
    "floor(1.2222*100)/100 #отбросим копейки при капитализации"
   ]
  },
  {
   "cell_type": "code",
   "execution_count": null,
   "metadata": {},
   "outputs": [],
   "source": [
    "n = int(input())\n",
    "r = int(input())/100 #введите процент как целое число\n",
    "M = int(input())\n",
    "#проценты вводятся годовые, а капитализируются каждый квартал\n",
    "\n",
    "year = 0\n",
    "while n<M:\n",
    "    n += floor(n*(r/4)*100)/100\n",
    "    year+=0.25\n",
    "print(year)"
   ]
  },
  {
   "cell_type": "markdown",
   "metadata": {},
   "source": [
    "## Задача 1.10 Конвертер систем счисления\n",
    "Пользователь вводит с клавиатуры число в десятичной системе, которое хочет перевести, и порядок системы счисления (не более 16). Нужно перевести число в заданную систему счисления."
   ]
  },
  {
   "cell_type": "code",
   "execution_count": null,
   "metadata": {},
   "outputs": [],
   "source": [
    "num = int(input('Введите число: '))\n",
    "base = int(input('Введите базис системы счисления, не больше 16: '))\n",
    "rem = {10:'A', 11:'B', 12:'C', 13:'D', 14:'E', 15:'F'}\n",
    "new = ''\n",
    "if 2<=base<=16:\n",
    "    \n",
    "    while num > 0:\n",
    "        \n",
    "        if base>10:\n",
    "            sh = num % base\n",
    "            if sh in rem.keys():\n",
    "                new = rem[sh]+new\n",
    "                \n",
    "            else:\n",
    "                new = str(sh)+new\n",
    "            num //= base\n",
    "            \n",
    "        else:\n",
    "            new= str(num % base) + new\n",
    "            num //= base\n",
    "    print(new)\n",
    "else:\n",
    "    print('Система счисления должна быть не меньше 2 и не больше 16, попробуйте еще разок')\n"
   ]
  },
  {
   "cell_type": "markdown",
   "metadata": {},
   "source": [
    "## Задача 1.11 Оценка за задачки\n",
    "Пользователь с клавиатуры вводит информацию о сданных студентами задачах:\n",
    "\n",
    "`name1 1 4 7 9 10 11 14 15; name2 1 2 3 4 5 6 7 8; name3 1 3 5 7 9 11 13 15; name4 2 4 6 8 10 12 14`\n",
    "\n",
    "где после имени студента через пробел идут номера решенных им задач. Результаты студентов разделены точкой с запятой. Расчитайте оценку каждого студента в соответствии с формулой из программы курса, и выведите таблицу с результатами из двух столбцов: имя студента и оценка.\n"
   ]
  },
  {
   "cell_type": "code",
   "execution_count": 27,
   "metadata": {},
   "outputs": [
    {
     "name": "stdout",
     "output_type": "stream",
     "text": [
      "name1 4 5 6 8 10; name2 3 5 6 7 8 10; name3 2 3 5 6 7 8 9; name4 1 2 3 4 5 6 7 8 9 10; name5 3 5 7 9; name6 2 3 5 6 7 9 10; name7 3 8; name8 3 5 7 8; name9 5 6 8 9 10; name10 2 3 5 6 7 8 9 10\n"
     ]
    }
   ],
   "source": [
    "import pandas as pd\n",
    "#формулы из таблицы курса\n",
    "# result = pd.DataFrame()\n",
    "data_ =[[j for j in i.split(' ')] for i in input().split('; ')]"
   ]
  },
  {
   "cell_type": "code",
   "execution_count": 28,
   "metadata": {},
   "outputs": [
    {
     "data": {
      "text/plain": [
       "[['name1', '4', '5', '6', '8', '10'],\n",
       " ['name2', '3', '5', '6', '7', '8', '10'],\n",
       " ['name3', '2', '3', '5', '6', '7', '8', '9'],\n",
       " ['name4', '1', '2', '3', '4', '5', '6', '7', '8', '9', '10'],\n",
       " ['name5', '3', '5', '7', '9'],\n",
       " ['name6', '2', '3', '5', '6', '7', '9', '10'],\n",
       " ['name7', '3', '8'],\n",
       " ['name8', '3', '5', '7', '8'],\n",
       " ['name9', '5', '6', '8', '9', '10'],\n",
       " ['name10', '2', '3', '5', '6', '7', '8', '9', '10']]"
      ]
     },
     "execution_count": 28,
     "metadata": {},
     "output_type": "execute_result"
    }
   ],
   "source": [
    "data_"
   ]
  },
  {
   "cell_type": "code",
   "execution_count": 29,
   "metadata": {},
   "outputs": [],
   "source": [
    "dat = {}\n",
    "for i in data_:\n",
    "    dat[(i[0])] = [int(i) for i in i[1:]]\n",
    "stud_amount = len(dat.keys())\n",
    "\n",
    "tasks = []\n",
    "for values in dat.values():\n",
    "    tasks.extend(values)\n",
    "\n",
    "di = {}\n",
    "for i in tasks:\n",
    "    di[i] = tasks.count(i)\n",
    "\n",
    "level = {}\n",
    "for key, value in di.items():\n",
    "    level[key] = (stud_amount-value)+1 \n",
    "\n",
    "marks = {}\n",
    "for key, value in dat.items():\n",
    "    for i in value:\n",
    "        if i in level.keys():\n",
    "                        \n",
    "            if key not in marks.keys():\n",
    "                marks[key] = level[i]\n",
    "        \n",
    "            marks[key]+=level[i]\n",
    "max_mark = max(marks.values())\n",
    "for key, value in marks.items():\n",
    "    marks[key]=[round((0.5+1.5*(value/max_mark)),2)]"
   ]
  },
  {
   "cell_type": "code",
   "execution_count": 30,
   "metadata": {},
   "outputs": [],
   "source": [
    "for key, value in dat.items():\n",
    "    if len(value)<5:\n",
    "        marks[key]='Нет оценки'"
   ]
  },
  {
   "cell_type": "code",
   "execution_count": 31,
   "metadata": {},
   "outputs": [],
   "source": [
    "df = pd.DataFrame(marks, index=None)\n",
    "df = df.T\n",
    "df = df.reset_index()\n",
    "df = df.rename(columns={0:'Оценка', 'index': 'Имя'})"
   ]
  },
  {
   "cell_type": "code",
   "execution_count": 32,
   "metadata": {},
   "outputs": [
    {
     "data": {
      "text/html": [
       "<div>\n",
       "<style scoped>\n",
       "    .dataframe tbody tr th:only-of-type {\n",
       "        vertical-align: middle;\n",
       "    }\n",
       "\n",
       "    .dataframe tbody tr th {\n",
       "        vertical-align: top;\n",
       "    }\n",
       "\n",
       "    .dataframe thead th {\n",
       "        text-align: right;\n",
       "    }\n",
       "</style>\n",
       "<table border=\"1\" class=\"dataframe\">\n",
       "  <thead>\n",
       "    <tr style=\"text-align: right;\">\n",
       "      <th></th>\n",
       "      <th>Имя</th>\n",
       "      <th>Оценка</th>\n",
       "    </tr>\n",
       "  </thead>\n",
       "  <tbody>\n",
       "    <tr>\n",
       "      <td>0</td>\n",
       "      <td>name1</td>\n",
       "      <td>1.27</td>\n",
       "    </tr>\n",
       "    <tr>\n",
       "      <td>1</td>\n",
       "      <td>name2</td>\n",
       "      <td>1.08</td>\n",
       "    </tr>\n",
       "    <tr>\n",
       "      <td>2</td>\n",
       "      <td>name3</td>\n",
       "      <td>1.35</td>\n",
       "    </tr>\n",
       "    <tr>\n",
       "      <td>3</td>\n",
       "      <td>name4</td>\n",
       "      <td>2</td>\n",
       "    </tr>\n",
       "    <tr>\n",
       "      <td>4</td>\n",
       "      <td>name5</td>\n",
       "      <td>Нет оценки</td>\n",
       "    </tr>\n",
       "    <tr>\n",
       "      <td>5</td>\n",
       "      <td>name6</td>\n",
       "      <td>1.4</td>\n",
       "    </tr>\n",
       "    <tr>\n",
       "      <td>6</td>\n",
       "      <td>name7</td>\n",
       "      <td>Нет оценки</td>\n",
       "    </tr>\n",
       "    <tr>\n",
       "      <td>7</td>\n",
       "      <td>name8</td>\n",
       "      <td>Нет оценки</td>\n",
       "    </tr>\n",
       "    <tr>\n",
       "      <td>8</td>\n",
       "      <td>name9</td>\n",
       "      <td>1.01</td>\n",
       "    </tr>\n",
       "    <tr>\n",
       "      <td>9</td>\n",
       "      <td>name10</td>\n",
       "      <td>1.47</td>\n",
       "    </tr>\n",
       "  </tbody>\n",
       "</table>\n",
       "</div>"
      ],
      "text/plain": [
       "      Имя      Оценка\n",
       "0   name1        1.27\n",
       "1   name2        1.08\n",
       "2   name3        1.35\n",
       "3   name4           2\n",
       "4   name5  Нет оценки\n",
       "5   name6         1.4\n",
       "6   name7  Нет оценки\n",
       "7   name8  Нет оценки\n",
       "8   name9        1.01\n",
       "9  name10        1.47"
      ]
     },
     "execution_count": 32,
     "metadata": {},
     "output_type": "execute_result"
    }
   ],
   "source": [
    "df"
   ]
  },
  {
   "cell_type": "markdown",
   "metadata": {},
   "source": [
    "## Задача 1.12 Лог сделок\n",
    "Дана таблица pandas `tradelog`, содержащая информацию о сделках. Таблица имеет следующие столбцы:\n",
    "\n",
    "- `no`: номер сделки;\n",
    "- `asset`: тикер актива;\n",
    "- `action`: тип сделки (\"B\", если покупка, \"S\", если продажа)\n",
    "- `price`: цена сделки\n",
    "- `volume`: объем сделки\n",
    "\n",
    "Рассчитайте баланс по каждому активу и выведите таблицу из трех столбцов: тикер актива, прибыль (разность между доходами от продажи и расходами на покупку), количество активов в наличии (может быть отрицательным)."
   ]
  },
  {
   "cell_type": "code",
   "execution_count": 33,
   "metadata": {},
   "outputs": [
    {
     "name": "stdout",
     "output_type": "stream",
     "text": [
      "   no asset action  price  volume\n",
      "0   1     E      B  10.77      10\n",
      "1   2     B      S  10.49       5\n",
      "2   3     C      S  10.89       8\n",
      "3   4     B      B  10.74       6\n",
      "4   5     C      B  10.28      10\n"
     ]
    }
   ],
   "source": [
    "import pandas as pd\n",
    "import string\n",
    "import random\n",
    "N = 5\n",
    "tradelog = pd.DataFrame({\n",
    "    'no': list(range(1, N + 1)),\n",
    "    'asset': [random.choice(string.ascii_uppercase[:5]) for x in range(N)],\n",
    "    'action': [random.choice([\"B\", \"S\"]) for x in range(N)],\n",
    "    'price': [round(random.uniform(9, 11), 2) for i in range(N)],\n",
    "    'volume': [random.randrange(1, 11, 1) for i in range(N)]\n",
    "})\n",
    "print(tradelog)\n",
    "# !!! обратите внимание, что таблица генерируется случайно,\n",
    "# поэтому лучше писать решение в отдельной ячейке"
   ]
  },
  {
   "cell_type": "code",
   "execution_count": 34,
   "metadata": {},
   "outputs": [],
   "source": [
    "tradelog['operation'] = tradelog['price']*tradelog['volume']"
   ]
  },
  {
   "cell_type": "code",
   "execution_count": 35,
   "metadata": {},
   "outputs": [],
   "source": [
    "tradelog['operation'] =tradelog['operation'].apply(lambda x: x*(-1))"
   ]
  },
  {
   "cell_type": "code",
   "execution_count": 36,
   "metadata": {},
   "outputs": [],
   "source": [
    "tradelog.loc[tradelog['action']=='B', 'operation']*=(-1)"
   ]
  },
  {
   "cell_type": "code",
   "execution_count": 37,
   "metadata": {},
   "outputs": [
    {
     "data": {
      "text/html": [
       "<div>\n",
       "<style scoped>\n",
       "    .dataframe tbody tr th:only-of-type {\n",
       "        vertical-align: middle;\n",
       "    }\n",
       "\n",
       "    .dataframe tbody tr th {\n",
       "        vertical-align: top;\n",
       "    }\n",
       "\n",
       "    .dataframe thead th {\n",
       "        text-align: right;\n",
       "    }\n",
       "</style>\n",
       "<table border=\"1\" class=\"dataframe\">\n",
       "  <thead>\n",
       "    <tr style=\"text-align: right;\">\n",
       "      <th></th>\n",
       "      <th>no</th>\n",
       "      <th>asset</th>\n",
       "      <th>action</th>\n",
       "      <th>price</th>\n",
       "      <th>volume</th>\n",
       "      <th>operation</th>\n",
       "    </tr>\n",
       "  </thead>\n",
       "  <tbody>\n",
       "    <tr>\n",
       "      <td>1</td>\n",
       "      <td>2</td>\n",
       "      <td>B</td>\n",
       "      <td>S</td>\n",
       "      <td>10.49</td>\n",
       "      <td>5</td>\n",
       "      <td>-52.45</td>\n",
       "    </tr>\n",
       "    <tr>\n",
       "      <td>3</td>\n",
       "      <td>4</td>\n",
       "      <td>B</td>\n",
       "      <td>B</td>\n",
       "      <td>10.74</td>\n",
       "      <td>6</td>\n",
       "      <td>64.44</td>\n",
       "    </tr>\n",
       "    <tr>\n",
       "      <td>2</td>\n",
       "      <td>3</td>\n",
       "      <td>C</td>\n",
       "      <td>S</td>\n",
       "      <td>10.89</td>\n",
       "      <td>8</td>\n",
       "      <td>-87.12</td>\n",
       "    </tr>\n",
       "  </tbody>\n",
       "</table>\n",
       "</div>"
      ],
      "text/plain": [
       "   no asset action  price  volume  operation\n",
       "1   2     B      S  10.49       5     -52.45\n",
       "3   4     B      B  10.74       6      64.44\n",
       "2   3     C      S  10.89       8     -87.12"
      ]
     },
     "execution_count": 37,
     "metadata": {},
     "output_type": "execute_result"
    }
   ],
   "source": [
    "tradelog.sort_values(['asset']).head(3)"
   ]
  },
  {
   "cell_type": "code",
   "execution_count": 38,
   "metadata": {
    "scrolled": true
   },
   "outputs": [
    {
     "data": {
      "text/html": [
       "<div>\n",
       "<style scoped>\n",
       "    .dataframe tbody tr th:only-of-type {\n",
       "        vertical-align: middle;\n",
       "    }\n",
       "\n",
       "    .dataframe tbody tr th {\n",
       "        vertical-align: top;\n",
       "    }\n",
       "\n",
       "    .dataframe thead th {\n",
       "        text-align: right;\n",
       "    }\n",
       "</style>\n",
       "<table border=\"1\" class=\"dataframe\">\n",
       "  <thead>\n",
       "    <tr style=\"text-align: right;\">\n",
       "      <th></th>\n",
       "      <th>asset</th>\n",
       "      <th>operation</th>\n",
       "    </tr>\n",
       "  </thead>\n",
       "  <tbody>\n",
       "    <tr>\n",
       "      <td>0</td>\n",
       "      <td>B</td>\n",
       "      <td>11.99</td>\n",
       "    </tr>\n",
       "    <tr>\n",
       "      <td>1</td>\n",
       "      <td>C</td>\n",
       "      <td>15.68</td>\n",
       "    </tr>\n",
       "    <tr>\n",
       "      <td>2</td>\n",
       "      <td>E</td>\n",
       "      <td>107.70</td>\n",
       "    </tr>\n",
       "  </tbody>\n",
       "</table>\n",
       "</div>"
      ],
      "text/plain": [
       "  asset  operation\n",
       "0     B      11.99\n",
       "1     C      15.68\n",
       "2     E     107.70"
      ]
     },
     "execution_count": 38,
     "metadata": {},
     "output_type": "execute_result"
    }
   ],
   "source": [
    "tradelog.groupby('asset', as_index=False).aggregate({'operation':'sum'})"
   ]
  },
  {
   "cell_type": "markdown",
   "metadata": {},
   "source": [
    "### Комментарий\n",
    "не хватает количества активов"
   ]
  },
  {
   "cell_type": "markdown",
   "metadata": {},
   "source": [
    "## Задача 1.13 Вектор доходностей\n",
    "Пользователь вводит с клавиатуры вектор из цен закрытия часа для некоторого актива (разделитель пробел), и в отдельном поле параметр T (длительность позиции в часах). Выведите вектор относительных приростов цены каждые T часов.\n",
    "\n",
    "**Внимание!** В задаче нужно использовать массивы numpy и нельзя использовать циклы\n",
    "\n",
    "Пример\n",
    "\n",
    ">input\n",
    ">\n",
    ">`1 2 3 4 5 6 7`\n",
    ">\n",
    ">`2`\n",
    ">\n",
    ">output\n",
    ">\n",
    ">`array([2, 0.66667, 0.4])`"
   ]
  },
  {
   "cell_type": "code",
   "execution_count": 39,
   "metadata": {},
   "outputs": [],
   "source": [
    "import numpy as np"
   ]
  },
  {
   "cell_type": "code",
   "execution_count": 40,
   "metadata": {},
   "outputs": [
    {
     "name": "stdout",
     "output_type": "stream",
     "text": [
      "1 2 3 4 5 6 7\n",
      "2\n"
     ]
    }
   ],
   "source": [
    "prices = np.array([int(i) for i in input().split()])\n",
    "T = int(input())\n",
    "indexes = np.array(range(len(prices)))"
   ]
  },
  {
   "cell_type": "code",
   "execution_count": 41,
   "metadata": {},
   "outputs": [
    {
     "name": "stdout",
     "output_type": "stream",
     "text": [
      "[2.         0.66666667 0.4       ]\n"
     ]
    },
    {
     "name": "stderr",
     "output_type": "stream",
     "text": [
      "C:\\Users\\che-g\\Anaconda3\\lib\\site-packages\\ipykernel_launcher.py:1: FutureWarning: Using a non-tuple sequence for multidimensional indexing is deprecated; use `arr[tuple(seq)]` instead of `arr[seq]`. In the future this will be interpreted as an array index, `arr[np.array(seq)]`, which will result either in an error or a different result.\n",
      "  \"\"\"Entry point for launching an IPython kernel.\n"
     ]
    }
   ],
   "source": [
    "p = prices[[indexes%T==0]]\n",
    "p_end = p[1:]\n",
    "p_beg= p[:-1]\n",
    "answer = (p_end-p_beg)/p_beg\n",
    "print(answer)"
   ]
  },
  {
   "cell_type": "markdown",
   "metadata": {},
   "source": [
    "## Задача 1.14 Простые числа меньше N\n",
    "Пользователь вводит с клавиатуры число N. Выведите в строчку через запятую все простые числа, меньше N.\n",
    "\n",
    "Пример\n",
    ">input\n",
    ">\n",
    ">`10`\n",
    ">\n",
    ">output\n",
    ">\n",
    ">`2, 3, 5, 7`\n",
    ">"
   ]
  },
  {
   "cell_type": "code",
   "execution_count": 42,
   "metadata": {},
   "outputs": [
    {
     "name": "stdout",
     "output_type": "stream",
     "text": [
      "15\n",
      "[2, 3, 5, 7, 11, 13]\n"
     ]
    }
   ],
   "source": [
    "#алгоритм решета Эратосфена\n",
    "n = int(input())\n",
    "a = [int(i) for i in range(n+1)]\n",
    "a[1]=0\n",
    "fin = []\n",
    "i = 2\n",
    "while i <= n:\n",
    "    if a[i] != 0: \n",
    "        fin.append(a[i])\n",
    "        for j in range(i, n+1,i): #шаг - число i, которое мы уже добавили в список простых. убираем кратные ему числа из общего списка\n",
    "            a[j] = 0\n",
    "    i += 1\n",
    "print(fin)"
   ]
  },
  {
   "cell_type": "markdown",
   "metadata": {},
   "source": [
    "## Задача 1.15 Фундаментальный инвестор из будущего\n",
    "Гость из будущего точно знает все дивиденды, которые выплатит некоторая компания до своего банкроства. Он вводит с клавиатуры через пробел размер дивидендов в каждый год с текущего момента. Используя DCF-модель, рассчитайте фундаментальную стоимость акции.\n",
    "\n",
    "**Внимание!** Нужно использовать массивы numpy, нельзя использовать циклы."
   ]
  },
  {
   "cell_type": "code",
   "execution_count": 43,
   "metadata": {},
   "outputs": [
    {
     "name": "stdout",
     "output_type": "stream",
     "text": [
      "10 10 10 10 10\n"
     ]
    }
   ],
   "source": [
    "import numpy as np\n",
    "div = np.array([int(i) for i in input().split()])"
   ]
  },
  {
   "cell_type": "code",
   "execution_count": 44,
   "metadata": {},
   "outputs": [],
   "source": [
    "r = 0.05"
   ]
  },
  {
   "cell_type": "code",
   "execution_count": 45,
   "metadata": {},
   "outputs": [],
   "source": [
    "future_value = sum(div/((1+r)**len(div)))"
   ]
  },
  {
   "cell_type": "code",
   "execution_count": 46,
   "metadata": {},
   "outputs": [
    {
     "name": "stdout",
     "output_type": "stream",
     "text": [
      "39.18\n"
     ]
    }
   ],
   "source": [
    "print(round(future_value,2))"
   ]
  },
  {
   "cell_type": "markdown",
   "metadata": {},
   "source": [
    "### Комментарий\n",
    "по вашей записи future_value (которая на самом деле present value) все дивиденды выплачивают одновременно перед банкротством компании"
   ]
  },
  {
   "cell_type": "code",
   "execution_count": null,
   "metadata": {},
   "outputs": [],
   "source": []
  }
 ],
 "metadata": {
  "kernelspec": {
   "display_name": "Python 3",
   "language": "python",
   "name": "python3"
  },
  "language_info": {
   "codemirror_mode": {
    "name": "ipython",
    "version": 3
   },
   "file_extension": ".py",
   "mimetype": "text/x-python",
   "name": "python",
   "nbconvert_exporter": "python",
   "pygments_lexer": "ipython3",
   "version": "3.7.3"
  }
 },
 "nbformat": 4,
 "nbformat_minor": 2
}
